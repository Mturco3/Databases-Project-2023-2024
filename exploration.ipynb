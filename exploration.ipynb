{
 "cells": [
  {
   "cell_type": "code",
   "execution_count": 48,
   "metadata": {},
   "outputs": [],
   "source": [
    "import pandas as pd\n",
    "import json\n",
    "import re"
   ]
  },
  {
   "cell_type": "code",
   "execution_count": 2,
   "metadata": {},
   "outputs": [],
   "source": [
    "jobs = pd.read_csv(\"job_descriptions.csv\")"
   ]
  },
  {
   "cell_type": "code",
   "execution_count": 40,
   "metadata": {},
   "outputs": [
    {
     "data": {
      "text/plain": [
       "(1615940, 23)"
      ]
     },
     "execution_count": 40,
     "metadata": {},
     "output_type": "execute_result"
    }
   ],
   "source": [
    "jobs.shape"
   ]
  },
  {
   "cell_type": "code",
   "execution_count": 41,
   "metadata": {},
   "outputs": [
    {
     "name": "stdout",
     "output_type": "stream",
     "text": [
      "39         Expecting ',' delimiter: line 1 column 185 (ch...\n",
      "139        Expecting ',' delimiter: line 1 column 179 (ch...\n",
      "351        Expecting ',' delimiter: line 1 column 179 (ch...\n",
      "496        Expecting ',' delimiter: line 1 column 152 (ch...\n",
      "551        Expecting ',' delimiter: line 1 column 179 (ch...\n",
      "                                 ...                        \n",
      "1615761    Expecting ',' delimiter: line 1 column 179 (ch...\n",
      "1615806    Expecting ',' delimiter: line 1 column 179 (ch...\n",
      "1615846    Expecting ',' delimiter: line 1 column 153 (ch...\n",
      "1615885    Expecting ',' delimiter: line 1 column 174 (ch...\n",
      "1615926    Expecting ',' delimiter: line 1 column 182 (ch...\n",
      "Name: Company Profile, Length: 23762, dtype: object\n"
     ]
    }
   ],
   "source": [
    "jobs['Company Profile'].fillna('[]', inplace=True)\n",
    "\n",
    "error_rows = []\n",
    "\n",
    "def try_load_json(json_str):\n",
    "    try:\n",
    "        json.loads(json_str)\n",
    "        return None\n",
    "    except json.JSONDecodeError as e:\n",
    "        return str(e)\n",
    "\n",
    "error_rows = jobs['Company Profile'].apply(try_load_json)\n",
    "\n",
    "rows_with_errors = error_rows.dropna()\n",
    "print(rows_with_errors)"
   ]
  },
  {
   "cell_type": "code",
   "execution_count": 60,
   "metadata": {},
   "outputs": [
    {
     "name": "stdout",
     "output_type": "stream",
     "text": [
      "{\"Sector\":\"Utilities\",\"Industry\":\"Utilities\",\"City\":\"Windsor, UK\",\"State\":\"N/A\",\"Zip\":\"N/A\",\"Website\":\"www.centrica.com\",\"Ticker\":\"CNA\",\"CEO\":\"Chris O\"Shea\"}\n",
      "{\"Sector\":\"Financial Services\",\"Industry\":\"Commercial Banks\",\"City\":\"Boston\",\"State\":\"Massachusetts\",\"Zip\":\"2111\",\"Website\":\"www.statestreet.com\",\"Ticker\":\"STT\",\"CEO\":\"Ronald P. O\"Hanley\"}\n"
     ]
    }
   ],
   "source": [
    "print(jobs.iloc[rows_with_errors.index[7]]['Company Profile'])\n",
    "print(jobs.iloc[rows_with_errors.index[6]]['Company Profile'])"
   ]
  }
 ],
 "metadata": {
  "kernelspec": {
   "display_name": "dbproject",
   "language": "python",
   "name": "python3"
  },
  "language_info": {
   "codemirror_mode": {
    "name": "ipython",
    "version": 3
   },
   "file_extension": ".py",
   "mimetype": "text/x-python",
   "name": "python",
   "nbconvert_exporter": "python",
   "pygments_lexer": "ipython3",
   "version": "3.11.5"
  }
 },
 "nbformat": 4,
 "nbformat_minor": 2
}
